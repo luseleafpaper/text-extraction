{
 "cells": [
  {
   "cell_type": "code",
   "execution_count": 5,
   "metadata": {
    "collapsed": true
   },
   "outputs": [],
   "source": [
    "import nltk, re, pprint"
   ]
  },
  {
   "cell_type": "code",
   "execution_count": 120,
   "metadata": {
    "collapsed": false
   },
   "outputs": [],
   "source": [
    "def ie_preprocess(document): \n",
    "    sentences = nltk.sent_tokenize(document) \n",
    "    sentences = [nltk.word_tokenize(sent) for sent in sentences] \n",
    "    sentences = [nltk.pos_tag(sent) for sent in sentences] \n",
    "    return sentences \n",
    "\n",
    "def get_chunk_parser(cp_type=\"a\"): \n",
    "    cp_types = {\n",
    "        \"a\": \"NP: {<DT>?<JJ>*<NN>}\",\n",
    "        \"b\": \"NP: {<DT>?<JJ.*>*<NN.*>+}\",\n",
    "        \"c\": \"\"\"NP: {<NNP>+}\n",
    "                    \"\"\",\n",
    "        \"d\": \"\"\"NP: {<DT|PP\\$>?<JJ>*<NN>}\"\"\",\n",
    "        \"e\": \"\"\"NP: {<NN>+}\"\"\",\n",
    "        \"f\": r\"\"\"NP: {<NN>+}\n",
    "                     {<DT|PP\\$>?<JJ>*<NN>}\n",
    "                     {<NNP>+}\n",
    "                     \"\"\"\n",
    "\n",
    "        } \n",
    "    grammar = cp_types.get(cp_type, \"NP: {<DT>?<JJ>*<NN>}\") \n",
    "    cp = nltk.RegexpParser(grammar) \n",
    "    return cp \n",
    "\n",
    "def chunk_parse_sentences(cp, sentences): \n",
    "    results = [] \n",
    "    for sentence in sentences: \n",
    "        result = cp.parse(sentence)\n",
    "        results.append(result)\n",
    "    return results\n",
    "\n",
    "document = \"\"\"Fellow citizens of the United States: \n",
    "In compliance with a custom as old as the Government itself,\n",
    "I appear before you to address you briefly and to take your presence the oath \n",
    "prescribed by the Constitution of the United States to be taken by the President.\n",
    "I do not consider it necessary at present for me to discuss those matters of administration \n",
    "about which there is no special anxiety or excitement.\n",
    "  Apprehension seems to exist among the people of the Southern States that by \n",
    "  the accession of a Republican Administration their property and their peace \n",
    "  and personal security are to be endangered. \n",
    "  There has never been any reasonable cause for such apprehension. \n",
    "  Indeed, the most ample evidence to the contrary has all the while existed and been open to their inspection. \n",
    "  It is found in nearly all the published speeches of him who now addresses you. \n",
    "  I do but quote from one of those speeches when I declare that—\n",
    "I have no purpose, directly or indirectly, to interfere with the institution of slavery in the States \n",
    "where it exists. I believe I have no lawful right to do so, and I have no inclination to do so.\"\"\"\n",
    "\n",
    "document = \"Rapunzel Rapunzel let down her long golden hair so that I may invest in her money marketing fund\""
   ]
  },
  {
   "cell_type": "code",
   "execution_count": 121,
   "metadata": {
    "collapsed": false
   },
   "outputs": [
    {
     "name": "stdout",
     "output_type": "stream",
     "text": [
      "(S\n",
      "  (NP Rapunzel/NNP Rapunzel/NNP)\n",
      "  let/VBD\n",
      "  down/RP\n",
      "  her/PRP$\n",
      "  long/JJ\n",
      "  golden/JJ\n",
      "  (NP hair/NN)\n",
      "  so/IN\n",
      "  that/IN\n",
      "  I/PRP\n",
      "  may/MD\n",
      "  invest/VB\n",
      "  in/IN\n",
      "  her/PRP$\n",
      "  (NP money/NN marketing/NN fund/NN))\n"
     ]
    }
   ],
   "source": [
    "sentences = ie_preprocess(document)\n",
    "\n",
    "cp = get_chunk_parser(cp_type=\"f\")\n",
    "results = chunk_parse_sentences(cp, sentences)\n",
    "\n",
    "for result in results: \n",
    "    print(result)"
   ]
  },
  {
   "cell_type": "code",
   "execution_count": null,
   "metadata": {
    "collapsed": true
   },
   "outputs": [],
   "source": []
  }
 ],
 "metadata": {
  "anaconda-cloud": {},
  "kernelspec": {
   "display_name": "Python [Root]",
   "language": "python",
   "name": "Python [Root]"
  },
  "language_info": {
   "codemirror_mode": {
    "name": "ipython",
    "version": 3
   },
   "file_extension": ".py",
   "mimetype": "text/x-python",
   "name": "python",
   "nbconvert_exporter": "python",
   "pygments_lexer": "ipython3",
   "version": "3.5.2"
  }
 },
 "nbformat": 4,
 "nbformat_minor": 1
}
